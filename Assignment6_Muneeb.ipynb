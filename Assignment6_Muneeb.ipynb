{
  "cells": [
    {
      "cell_type": "markdown",
      "metadata": {
        "id": "gmegxD55fkue"
      },
      "source": [
        "Part_1"
      ]
    },
    {
      "cell_type": "code",
      "execution_count": 1,
      "metadata": {
        "id": "9jBHZ7ZHfHZD"
      },
      "outputs": [
        {
          "name": "stdout",
          "output_type": "stream",
          "text": [
            "The 5th smallest element (Median of Medians) is: 30\n",
            "The 5th smallest element (Randomized Quickselect) is: 30\n"
          ]
        }
      ],
      "source": [
        "import random\n",
        "\n",
        "# Deterministic Algorithm - Median of Medians\n",
        "def partition(arr, low, high, pivot):\n",
        "    arr[pivot], arr[high] = arr[high], arr[pivot]\n",
        "    store_index = low\n",
        "    for i in range(low, high):\n",
        "        if arr[i] < arr[high]:\n",
        "            arr[store_index], arr[i] = arr[i], arr[store_index]\n",
        "            store_index += 1\n",
        "    arr[store_index], arr[high] = arr[high], arr[store_index]\n",
        "    return store_index\n",
        "\n",
        "def median_of_medians(arr, k):\n",
        "    n = len(arr)\n",
        "    if n <= 5:\n",
        "        return sorted(arr)[k]\n",
        "    medians = [sorted(arr[i:i+5])[len(arr[i:i+5])//2] for i in range(0, n, 5)]\n",
        "    pivot = median_of_medians(medians, len(medians) // 2)\n",
        "    pivot_index = arr.index(pivot)\n",
        "    pivot_index = partition(arr, 0, len(arr) - 1, pivot_index)\n",
        "    if k < pivot_index:\n",
        "        return median_of_medians(arr[:pivot_index], k)\n",
        "    elif k > pivot_index:\n",
        "        return median_of_medians(arr[pivot_index + 1:], k - pivot_index - 1)\n",
        "    else:\n",
        "        return arr[pivot_index]\n",
        "\n",
        "# Randomized Quickselect Algorithm\n",
        "def randomized_partition(arr, low, high):\n",
        "    pivot = random.randint(low, high)\n",
        "    arr[pivot], arr[high] = arr[high], arr[pivot]\n",
        "    return partition(arr, low, high, high)\n",
        "\n",
        "def randomized_select(arr, low, high, k):\n",
        "    if low == high:\n",
        "        return arr[low]\n",
        "    pivot_index = randomized_partition(arr, low, high)\n",
        "    if k == pivot_index:\n",
        "        return arr[k]\n",
        "    elif k < pivot_index:\n",
        "        return randomized_select(arr, low, pivot_index - 1, k)\n",
        "    else:\n",
        "        return randomized_select(arr, pivot_index + 1, high, k)\n",
        "\n",
        "# Test Cases\n",
        "arr = [random.randint(1, 100) for _ in range(20)]\n",
        "k = 5\n",
        "print(f\"The {k}th smallest element (Median of Medians) is: {median_of_medians(arr.copy(), k)}\")\n",
        "print(f\"The {k}th smallest element (Randomized Quickselect) is: {randomized_select(arr.copy(), 0, len(arr) - 1, k)}\")"
      ]
    },
    {
      "cell_type": "markdown",
      "metadata": {
        "id": "gRivpmuBfxlc"
      },
      "source": [
        "Part 2"
      ]
    },
    {
      "cell_type": "code",
      "execution_count": 2,
      "metadata": {
        "id": "db74qc21fzbj"
      },
      "outputs": [
        {
          "name": "stdout",
          "output_type": "stream",
          "text": [
            "Stack Peek: 20\n",
            "Queue Dequeue: 10\n",
            "20\n",
            "10\n"
          ]
        }
      ],
      "source": [
        "# Stack using Array\n",
        "class Stack:\n",
        "    def __init__(self):\n",
        "        self.items = []\n",
        "\n",
        "    def push(self, item):\n",
        "        self.items.append(item)\n",
        "\n",
        "    def pop(self):\n",
        "        if not self.is_empty():\n",
        "            return self.items.pop()\n",
        "\n",
        "    def peek(self):\n",
        "        if not self.is_empty():\n",
        "            return self.items[-1]\n",
        "\n",
        "    def is_empty(self):\n",
        "        return len(self.items) == 0\n",
        "\n",
        "# Queue using Array\n",
        "class Queue:\n",
        "    def __init__(self):\n",
        "        self.items = []\n",
        "\n",
        "    def enqueue(self, item):\n",
        "        self.items.append(item)\n",
        "\n",
        "    def dequeue(self):\n",
        "        if not self.is_empty():\n",
        "            return self.items.pop(0)\n",
        "\n",
        "    def is_empty(self):\n",
        "        return len(self.items) == 0\n",
        "\n",
        "# Singly Linked List\n",
        "class Node:\n",
        "    def __init__(self, data):\n",
        "        self.data = data\n",
        "        self.next = None\n",
        "\n",
        "class LinkedList:\n",
        "    def __init__(self):\n",
        "        self.head = None\n",
        "\n",
        "    def insert(self, data):\n",
        "        new_node = Node(data)\n",
        "        new_node.next = self.head\n",
        "        self.head = new_node\n",
        "\n",
        "    def delete(self, key):\n",
        "        temp = self.head\n",
        "        if temp is not None:\n",
        "            if temp.data == key:\n",
        "                self.head = temp.next\n",
        "                return\n",
        "        while temp is not None:\n",
        "            if temp.next.data == key:\n",
        "                temp.next = temp.next.next\n",
        "                return\n",
        "            temp = temp.next\n",
        "\n",
        "    def traverse(self):\n",
        "        temp = self.head\n",
        "        while temp:\n",
        "            print(temp.data)\n",
        "            temp = temp.next\n",
        "\n",
        "# Test Cases\n",
        "stack = Stack()\n",
        "stack.push(10)\n",
        "stack.push(20)\n",
        "print(\"Stack Peek:\", stack.peek())\n",
        "\n",
        "queue = Queue()\n",
        "queue.enqueue(10)\n",
        "queue.enqueue(20)\n",
        "print(\"Queue Dequeue:\", queue.dequeue())\n",
        "\n",
        "llist = LinkedList()\n",
        "llist.insert(10)\n",
        "llist.insert(20)\n",
        "llist.traverse()\n"
      ]
    }
  ],
  "metadata": {
    "colab": {
      "private_outputs": true,
      "provenance": []
    },
    "kernelspec": {
      "display_name": "Python 3",
      "name": "python3"
    },
    "language_info": {
      "codemirror_mode": {
        "name": "ipython",
        "version": 3
      },
      "file_extension": ".py",
      "mimetype": "text/x-python",
      "name": "python",
      "nbconvert_exporter": "python",
      "pygments_lexer": "ipython3",
      "version": "3.11.7"
    }
  },
  "nbformat": 4,
  "nbformat_minor": 0
}
